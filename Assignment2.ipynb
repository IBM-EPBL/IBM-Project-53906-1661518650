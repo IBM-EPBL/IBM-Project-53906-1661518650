Download the dataset

In [ ]:
# Downloaded the Dataset,Name of the Dataset is "Churn_Modelling.csv"
2.Load The Dataset

In [ ]:
import pandas as pd
import numpy as np
import matplotlib.pyplot as plt 
import seaborn as sns
from matplotlib import rcParams
In [ ]:
df=pd.read_csv("Churn_Modelling.csv")
df.head()
Out[ ]:
RowNumber	CustomerId	Surname	CreditScore	Geography	Gender	Age	Tenure	Balance	NumOfProducts	HasCrCard	IsActiveMember	EstimatedSalary	Exited
0	1	15634602	Hargrave	619	France	Female	42	2	0.00	1	1	1	101348.88	1
1	2	15647311	Hill	608	Spain	Female	41	1	83807.86	1	0	1	112542.58	0
2	3	15619304	Onio	502	France	Female	42	8	159660.80	3	1	0	113931.57	1
3	4	15701354	Boni	699	France	Female	39	1	0.00	2	0	0	93826.63	0
4	5	15737888	Mitchell	850	Spain	Female	43	2	125510.82	1	1	1	79084.10	0
3.Visualizations (i) Univariate Analysis

In [ ]:
un=sns.displot(df.CreditScore) #Univariate Plot is ploting with singe column
un
Out[ ]:

(ii) Bivariate Analysis

In [ ]:
bi=sns.lineplot(df.Age,df.CreditScore) # ploting with two columns called Bivariate Analysis
bi
/usr/local/lib/python3.7/dist-packages/seaborn/_decorators.py:43: FutureWarning: Pass the following variables as keyword args: x, y. From version 0.12, the only valid positional argument will be `data`, and passing other arguments without an explicit keyword will result in an error or misinterpretation.
  FutureWarning
Out[ ]:

(iii) Multivariate Analysis

In [ ]:
mu=plt.plot(df.Age,df.CreditScore,df.Balance) # plotting with more than two columns called Multivariate Analysis
mu
Out[ ]:
[,
 ]

4.Descriptive Statistics

In [ ]:
df.describe() # Descriptive Statistics is know as the "Five Point Summary Statistics"
Out[ ]:
RowNumber	CustomerId	CreditScore	Age	Tenure	Balance	NumOfProducts	HasCrCard	IsActiveMember	EstimatedSalary	Exited
count	10000.00000	1.000000e+04	10000.000000	10000.000000	10000.000000	10000.000000	10000.000000	10000.00000	10000.000000	10000.000000	10000.000000
mean	5000.50000	1.569094e+07	650.528800	38.921800	5.012800	76485.889288	1.530200	0.70550	0.515100	100090.239881	0.203700
std	2886.89568	7.193619e+04	96.653299	10.487806	2.892174	62397.405202	0.581654	0.45584	0.499797	57510.492818	0.402769
min	1.00000	1.556570e+07	350.000000	18.000000	0.000000	0.000000	1.000000	0.00000	0.000000	11.580000	0.000000
25%	2500.75000	1.562853e+07	584.000000	32.000000	3.000000	0.000000	1.000000	0.00000	0.000000	51002.110000	0.000000
50%	5000.50000	1.569074e+07	652.000000	37.000000	5.000000	97198.540000	1.000000	1.00000	1.000000	100193.915000	0.000000
75%	7500.25000	1.575323e+07	718.000000	44.000000	7.000000	127644.240000	2.000000	1.00000	1.000000	149388.247500	0.000000
max	10000.00000	1.581569e+07	850.000000	92.000000	10.000000	250898.090000	4.000000	1.00000	1.000000	199992.480000	1.000000
5.Handle The Missing Values

In [ ]:
df.isnull().any() #If any values are none or missing then we can replace with mean or mode or median
Out[ ]:
RowNumber          False
CustomerId         False
Surname            False
CreditScore        False
Geography          False
Gender             False
Age                False
Tenure             False
Balance            False
NumOfProducts      False
HasCrCard          False
IsActiveMember     False
EstimatedSalary    False
Exited             False
dtype: bool
In [ ]:
#if missing values present in numerical column then we can replace with mean or median
In [ ]:
# If we are using mean then it shouid satisify the constraint called Normal Distributed that is correct bell shaped and we check
# with distplot in seaborn or matplotlib
In [ ]:
d1=df.fillna(df.Age.mean())
d1
Out[ ]:
RowNumber	CustomerId	Surname	CreditScore	Geography	Gender	Age	Tenure	Balance	NumOfProducts	HasCrCard	IsActiveMember	EstimatedSalary	Exited
0	1	15634602	Hargrave	619	France	Female	42	2	0.00	1	1	1	101348.88	1
1	2	15647311	Hill	608	Spain	Female	41	1	83807.86	1	0	1	112542.58	0
2	3	15619304	Onio	502	France	Female	42	8	159660.80	3	1	0	113931.57	1
3	4	15701354	Boni	699	France	Female	39	1	0.00	2	0	0	93826.63	0
4	5	15737888	Mitchell	850	Spain	Female	43	2	125510.82	1	1	1	79084.10	0
...	...	...	...	...	...	...	...	...	...	...	...	...	...	...
9995	9996	15606229	Obijiaku	771	France	Male	39	5	0.00	2	1	0	96270.64	0
9996	9997	15569892	Johnstone	516	France	Male	35	10	57369.61	1	1	1	101699.77	0
9997	9998	15584532	Liu	709	France	Female	36	7	0.00	1	0	1	42085.58	1
9998	9999	15682355	Sabbatini	772	Germany	Male	42	3	75075.31	2	1	0	92888.52	1
9999	10000	15628319	Walker	792	France	Female	28	4	130142.79	1	1	0	38190.78	0
10000 rows × 14 columns

In [ ]:
# Replacing Null values with median if null values present in numerical data
In [ ]:
d2=df.fillna((df.Age.median()))
d2
Out[ ]:
RowNumber	CustomerId	Surname	CreditScore	Geography	Gender	Age	Tenure	Balance	NumOfProducts	HasCrCard	IsActiveMember	EstimatedSalary	Exited
0	1	15634602	Hargrave	619	France	Female	42	2	0.00	1	1	1	101348.88	1
1	2	15647311	Hill	608	Spain	Female	41	1	83807.86	1	0	1	112542.58	0
2	3	15619304	Onio	502	France	Female	42	8	159660.80	3	1	0	113931.57	1
3	4	15701354	Boni	699	France	Female	39	1	0.00	2	0	0	93826.63	0
4	5	15737888	Mitchell	850	Spain	Female	43	2	125510.82	1	1	1	79084.10	0
...	...	...	...	...	...	...	...	...	...	...	...	...	...	...
9995	9996	15606229	Obijiaku	771	France	Male	39	5	0.00	2	1	0	96270.64	0
9996	9997	15569892	Johnstone	516	France	Male	35	10	57369.61	1	1	1	101699.77	0
9997	9998	15584532	Liu	709	France	Female	36	7	0.00	1	0	1	42085.58	1
9998	9999	15682355	Sabbatini	772	Germany	Male	42	3	75075.31	2	1	0	92888.52	1
9999	10000	15628319	Walker	792	France	Female	28	4	130142.79	1	1	0	38190.78	0
10000 rows × 14 columns

In [ ]:
# If missing values present in categorical column then we can replace with mode
In [ ]:
d3=df.fillna((df.Geography.mode()))
d3
Out[ ]:
RowNumber	CustomerId	Surname	CreditScore	Geography	Gender	Age	Tenure	Balance	NumOfProducts	HasCrCard	IsActiveMember	EstimatedSalary	Exited
0	1	15634602	Hargrave	619	France	Female	42	2	0.00	1	1	1	101348.88	1
1	2	15647311	Hill	608	Spain	Female	41	1	83807.86	1	0	1	112542.58	0
2	3	15619304	Onio	502	France	Female	42	8	159660.80	3	1	0	113931.57	1
3	4	15701354	Boni	699	France	Female	39	1	0.00	2	0	0	93826.63	0
4	5	15737888	Mitchell	850	Spain	Female	43	2	125510.82	1	1	1	79084.10	0
...	...	...	...	...	...	...	...	...	...	...	...	...	...	...
9995	9996	15606229	Obijiaku	771	France	Male	39	5	0.00	2	1	0	96270.64	0
9996	9997	15569892	Johnstone	516	France	Male	35	10	57369.61	1	1	1	101699.77	0
9997	9998	15584532	Liu	709	France	Female	36	7	0.00	1	0	1	42085.58	1
9998	9999	15682355	Sabbatini	772	Germany	Male	42	3	75075.31	2	1	0	92888.52	1
9999	10000	15628319	Walker	792	France	Female	28	4	130142.79	1	1	0	38190.78	0
10000 rows × 14 columns

6.Find the outliers and replace the outliers

In [ ]:
# To Check for the outliers
In [ ]:
sns.boxplot(df.Age)
/usr/local/lib/python3.7/dist-packages/seaborn/_decorators.py:43: FutureWarning: Pass the following variable as a keyword arg: x. From version 0.12, the only valid positional argument will be `data`, and passing other arguments without an explicit keyword will result in an error or misinterpretation.
  FutureWarning
Out[ ]:

outlier removal using IQR

In [ ]:
#In Age column outliers present in after the upper layer
In [ ]:
q1=df.Age.quantile(0.25)
q3=df.Age.quantile(0.75)
In [ ]:
IQR=q3-q1
In [ ]:
upperlimit=q3+ 1.5 * IQR
lowerlimit=q1-(1.5*IQR)
In [ ]:
remove_upper_outliers=df[df.Age<upperlimit]
sns.boxplot(remove_upper_outliers.Age)
/usr/local/lib/python3.7/dist-packages/seaborn/_decorators.py:43: FutureWarning: Pass the following variable as a keyword arg: x. From version 0.12, the only valid positional argument will be `data`, and passing other arguments without an explicit keyword will result in an error or misinterpretation.
  FutureWarning
Out[ ]:

In [ ]:
sns.boxplot(df.CreditScore)
/usr/local/lib/python3.7/dist-packages/seaborn/_decorators.py:43: FutureWarning: Pass the following variable as a keyword arg: x. From version 0.12, the only valid positional argument will be `data`, and passing other arguments without an explicit keyword will result in an error or misinterpretation.
  FutureWarning
Out[ ]:

In [ ]:
# In CreditScore outliers are present in below the lower layer
In [ ]:
q1=df.CreditScore.quantile(0.25)
q3=df.CreditScore.quantile(0.75)
In [ ]:
IQR=q3-q1
In [ ]:
lowerlimit=q1-(1.5*IQR)
In [ ]:
remove_lower_outliers=df[df.CreditScore>lowerlimit]
sns.boxplot(remove_lower_outliers.CreditScore)
/usr/local/lib/python3.7/dist-packages/seaborn/_decorators.py:43: FutureWarning: Pass the following variable as a keyword arg: x. From version 0.12, the only valid positional argument will be `data`, and passing other arguments without an explicit keyword will result in an error or misinterpretation.
  FutureWarning
Out[ ]:

Check for Categorical columns and perform encoding.
In [ ]:
df.head()
Out[ ]:
RowNumber	CustomerId	Surname	CreditScore	Geography	Gender	Age	Tenure	Balance	NumOfProducts	HasCrCard	IsActiveMember	EstimatedSalary	Exited
0	1	15634602	Hargrave	619	France	Female	42	2	0.00	1	1	1	101348.88	1
1	2	15647311	Hill	608	Spain	Female	41	1	83807.86	1	0	1	112542.58	0
2	3	15619304	Onio	502	France	Female	42	8	159660.80	3	1	0	113931.57	1
3	4	15701354	Boni	699	France	Female	39	1	0.00	2	0	0	93826.63	0
4	5	15737888	Mitchell	850	Spain	Female	43	2	125510.82	1	1	1	79084.10	0
In [ ]:
# Here Gender has few categorical columns so we can use label encoding
(i)Label Encoding

In [ ]:
from sklearn.preprocessing import LabelEncoder
In [ ]:
le=LabelEncoder()
In [ ]:
df.Gender=le.fit_transform(df.Gender)
In [ ]:
df.head()
Out[ ]:
RowNumber	CustomerId	Surname	CreditScore	Geography	Gender	Age	Tenure	Balance	NumOfProducts	HasCrCard	IsActiveMember	EstimatedSalary	Exited
0	1	15634602	Hargrave	619	France	0	42	2	0.00	1	1	1	101348.88	1
1	2	15647311	Hill	608	Spain	0	41	1	83807.86	1	0	1	112542.58	0
2	3	15619304	Onio	502	France	0	42	8	159660.80	3	1	0	113931.57	1
3	4	15701354	Boni	699	France	0	39	1	0.00	2	0	0	93826.63	0
4	5	15737888	Mitchell	850	Spain	0	43	2	125510.82	1	1	1	79084.10	0
(ii) One Hot Encoding

In [ ]:
# Surname and Geography has more categorical so we can use one hot encoding
In [ ]:
df=pd.get_dummies(df,columns=['Surname','Geography'])
In [ ]:
df
Out[ ]:
RowNumber	CustomerId	CreditScore	Gender	Age	Tenure	Balance	NumOfProducts	HasCrCard	IsActiveMember	...	Surname_Zotova	Surname_Zox	Surname_Zubarev	Surname_Zubareva	Surname_Zuev	Surname_Zuyev	Surname_Zuyeva	Geography_France	Geography_Germany	Geography_Spain
0	1	15634602	619	0	42	2	0.00	1	1	1	...	0	0	0	0	0	0	0	1	0	0
1	2	15647311	608	0	41	1	83807.86	1	0	1	...	0	0	0	0	0	0	0	0	0	1
2	3	15619304	502	0	42	8	159660.80	3	1	0	...	0	0	0	0	0	0	0	1	0	0
3	4	15701354	699	0	39	1	0.00	2	0	0	...	0	0	0	0	0	0	0	1	0	0
4	5	15737888	850	0	43	2	125510.82	1	1	1	...	0	0	0	0	0	0	0	0	0	1
...	...	...	...	...	...	...	...	...	...	...	...	...	...	...	...	...	...	...	...	...	...
9995	9996	15606229	771	1	39	5	0.00	2	1	0	...	0	0	0	0	0	0	0	1	0	0
9996	9997	15569892	516	1	35	10	57369.61	1	1	1	...	0	0	0	0	0	0	0	1	0	0
9997	9998	15584532	709	0	36	7	0.00	1	0	1	...	0	0	0	0	0	0	0	1	0	0
9998	9999	15682355	772	1	42	3	75075.31	2	1	0	...	0	0	0	0	0	0	0	0	1	0
9999	10000	15628319	792	0	28	4	130142.79	1	1	0	...	0	0	0	0	0	0	0	1	0	0
10000 rows × 2947 columns

Split the data into dependent and independent variables.
In [ ]:
# In above dataset there is dependent variable called "Balance" and All others are Independent Variables
In [ ]:
# Splitting Dependent variable from DataSet
In [ ]:
dependent_variable=df['Balance']
In [ ]:
dependent_variable
Out[ ]:
0            0.00
1        83807.86
2       159660.80
3            0.00
4       125510.82
          ...    
9995         0.00
9996     57369.61
9997         0.00
9998     75075.31
9999    130142.79
Name: Balance, Length: 10000, dtype: float64
In [ ]:
# To split Independent Variables from dataset we will remove dependent variable
In [ ]:
Independent_variable=df.drop(columns=['Balance'],axis=1)
In [ ]:
Independent_variable
Out[ ]:
RowNumber	CustomerId	CreditScore	Gender	Age	Tenure	NumOfProducts	HasCrCard	IsActiveMember	EstimatedSalary	...	Surname_Zotova	Surname_Zox	Surname_Zubarev	Surname_Zubareva	Surname_Zuev	Surname_Zuyev	Surname_Zuyeva	Geography_France	Geography_Germany	Geography_Spain
0	1	15634602	619	0	42	2	1	1	1	101348.88	...	0	0	0	0	0	0	0	1	0	0
1	2	15647311	608	0	41	1	1	0	1	112542.58	...	0	0	0	0	0	0	0	0	0	1
2	3	15619304	502	0	42	8	3	1	0	113931.57	...	0	0	0	0	0	0	0	1	0	0
3	4	15701354	699	0	39	1	2	0	0	93826.63	...	0	0	0	0	0	0	0	1	0	0
4	5	15737888	850	0	43	2	1	1	1	79084.10	...	0	0	0	0	0	0	0	0	0	1
...	...	...	...	...	...	...	...	...	...	...	...	...	...	...	...	...	...	...	...	...	...
9995	9996	15606229	771	1	39	5	2	1	0	96270.64	...	0	0	0	0	0	0	0	1	0	0
9996	9997	15569892	516	1	35	10	1	1	1	101699.77	...	0	0	0	0	0	0	0	1	0	0
9997	9998	15584532	709	0	36	7	1	0	1	42085.58	...	0	0	0	0	0	0	0	1	0	0
9998	9999	15682355	772	1	42	3	2	1	0	92888.52	...	0	0	0	0	0	0	0	0	1	0
9999	10000	15628319	792	0	28	4	1	1	0	38190.78	...	0	0	0	0	0	0	0	1	0	0
10000 rows × 2946 columns

Scale the independent variables
In [ ]:
# Scaling Shouid be done for Independent Variables Only
In [ ]:
from sklearn.preprocessing import scale
In [ ]:
scale(Independent_variable)
Out[ ]:
array([[-1.73187761, -0.78321342, -0.32622142, ...,  0.99720391,
        -0.57873591, -0.57380915],
       [-1.7315312 , -0.60653412, -0.44003595, ..., -1.00280393,
        -0.57873591,  1.74273971],
       [-1.73118479, -0.99588476, -1.53679418, ...,  0.99720391,
        -0.57873591, -0.57380915],
       ...,
       [ 1.73118479, -1.47928179,  0.60498839, ...,  0.99720391,
        -0.57873591, -0.57380915],
       [ 1.7315312 , -0.11935577,  1.25683526, ..., -1.00280393,
         1.72790383, -0.57380915],
       [ 1.73187761, -0.87055909,  1.46377078, ...,  0.99720391,
        -0.57873591, -0.57380915]])
In [ ]:
scale(Independent_variable)
Out[ ]:
array([[-1.73187761, -0.78321342, -0.32622142, ...,  0.99720391,
        -0.57873591, -0.57380915],
       [-1.7315312 , -0.60653412, -0.44003595, ..., -1.00280393,
        -0.57873591,  1.74273971],
       [-1.73118479, -0.99588476, -1.53679418, ...,  0.99720391,
        -0.57873591, -0.57380915],
       ...,
       [ 1.73118479, -1.47928179,  0.60498839, ...,  0.99720391,
        -0.57873591, -0.57380915],
       [ 1.7315312 , -0.11935577,  1.25683526, ..., -1.00280393,
         1.72790383, -0.57380915],
       [ 1.73187761, -0.87055909,  1.46377078, ...,  0.99720391,
        -0.57873591, -0.57380915]])
In [ ]:
scaled=pd.DataFrame(scale(Independent_variable),columns=Independent_variable.columns)
In [ ]:
scaled
Out[ ]:
RowNumber	CustomerId	CreditScore	Gender	Age	Tenure	NumOfProducts	HasCrCard	IsActiveMember	EstimatedSalary	...	Surname_Zotova	Surname_Zox	Surname_Zubarev	Surname_Zubareva	Surname_Zuev	Surname_Zuyev	Surname_Zuyeva	Geography_France	Geography_Germany	Geography_Spain
0	-1.731878	-0.783213	-0.326221	-1.095988	0.293517	-1.041760	-0.911583	0.646092	0.970243	0.021886	...	-0.010001	-0.010001	-0.017323	-0.010001	-0.010001	-0.014144	-0.014144	0.997204	-0.578736	-0.573809
1	-1.731531	-0.606534	-0.440036	-1.095988	0.198164	-1.387538	-0.911583	-1.547768	0.970243	0.216534	...	-0.010001	-0.010001	-0.017323	-0.010001	-0.010001	-0.014144	-0.014144	-1.002804	-0.578736	1.742740
2	-1.731185	-0.995885	-1.536794	-1.095988	0.293517	1.032908	2.527057	0.646092	-1.030670	0.240687	...	-0.010001	-0.010001	-0.017323	-0.010001	-0.010001	-0.014144	-0.014144	0.997204	-0.578736	-0.573809
3	-1.730838	0.144767	0.501521	-1.095988	0.007457	-1.387538	0.807737	-1.547768	-1.030670	-0.108918	...	-0.010001	-0.010001	-0.017323	-0.010001	-0.010001	-0.014144	-0.014144	0.997204	-0.578736	-0.573809
4	-1.730492	0.652659	2.063884	-1.095988	0.388871	-1.041760	-0.911583	0.646092	0.970243	-0.365276	...	-0.010001	-0.010001	-0.017323	-0.010001	-0.010001	-0.014144	-0.014144	-1.002804	-0.578736	1.742740
...	...	...	...	...	...	...	...	...	...	...	...	...	...	...	...	...	...	...	...	...	...
9995	1.730492	-1.177652	1.246488	0.912419	0.007457	-0.004426	0.807737	0.646092	-1.030670	-0.066419	...	-0.010001	-0.010001	-0.017323	-0.010001	-0.010001	-0.014144	-0.014144	0.997204	-0.578736	-0.573809
9996	1.730838	-1.682806	-1.391939	0.912419	-0.373958	1.724464	-0.911583	0.646092	0.970243	0.027988	...	-0.010001	-0.010001	-0.017323	-0.010001	-0.010001	-0.014144	-0.014144	0.997204	-0.578736	-0.573809
9997	1.731185	-1.479282	0.604988	-1.095988	-0.278604	0.687130	-0.911583	-1.547768	0.970243	-1.008643	...	-0.010001	-0.010001	-0.017323	-0.010001	-0.010001	-0.014144	-0.014144	0.997204	-0.578736	-0.573809
9998	1.731531	-0.119356	1.256835	0.912419	0.293517	-0.695982	0.807737	0.646092	-1.030670	-0.125231	...	-0.010001	-0.010001	-0.017323	-0.010001	-0.010001	-0.014144	-0.014144	-1.002804	1.727904	-0.573809
9999	1.731878	-0.870559	1.463771	-1.095988	-1.041433	-0.350204	-0.911583	0.646092	-1.030670	-1.076370	...	-0.010001	-0.010001	-0.017323	-0.010001	-0.010001	-0.014144	-0.014144	0.997204	-0.578736	-0.573809
10000 rows × 2946 columns

Split the data into training and testing
In [ ]:
from sklearn.model_selection import train_test_split
In [ ]:
X_train,X_test,y_train,y_test=train_test_split(scaled,dependent_variable,test_size=0.3,random_state=0)
In [ ]:
X_train
Out[ ]:
RowNumber	CustomerId	CreditScore	Gender	Age	Tenure	NumOfProducts	HasCrCard	IsActiveMember	EstimatedSalary	...	Surname_Zotova	Surname_Zox	Surname_Zubarev	Surname_Zubareva	Surname_Zuev	Surname_Zuyev	Surname_Zuyeva	Geography_France	Geography_Germany	Geography_Spain
7681	0.928899	-0.797032	-0.098592	0.912419	-0.564665	-1.041760	0.807737	0.646092	0.970243	-0.770218	...	-0.010001	-0.010001	-0.017323	-0.010001	-0.010001	-0.014144	-0.014144	0.997204	-0.578736	-0.573809
9031	1.396553	0.714314	-1.133270	0.912419	0.007457	0.687130	0.807737	0.646092	-1.030670	-1.395767	...	-0.010001	-0.010001	-0.017323	-0.010001	-0.010001	-0.014144	-0.014144	0.997204	-0.578736	-0.573809
3691	-0.453278	0.963450	-0.626278	-1.095988	3.535540	-0.004426	-0.911583	-1.547768	0.970243	-1.499656	...	-0.010001	-0.010001	-0.017323	-0.010001	-0.010001	-0.014144	-0.014144	0.997204	-0.578736	-0.573809
202	-1.661903	-1.250707	-1.391939	0.912419	1.056346	-0.004426	-0.911583	-1.547768	0.970243	0.800862	...	-0.010001	-0.010001	-0.017323	-0.010001	-0.010001	-0.014144	-0.014144	-1.002804	-0.578736	1.742740
5625	0.216680	-0.385174	-1.474714	-1.095988	2.009882	0.687130	-0.911583	0.646092	0.970243	0.512497	...	-0.010001	-0.010001	-0.017323	-0.010001	-0.010001	-0.014144	-0.014144	0.997204	-0.578736	-0.573809
...	...	...	...	...	...	...	...	...	...	...	...	...	...	...	...	...	...	...	...	...	...
9225	1.463756	-1.473777	-0.584891	-1.095988	-0.660018	-0.350204	0.807737	0.646092	0.970243	1.093273	...	-0.010001	-0.010001	-0.017323	-0.010001	-0.010001	-0.014144	-0.014144	-1.002804	1.727904	-0.573809
4859	-0.048671	-0.609314	1.484464	-1.095988	-1.613554	-0.350204	-0.911583	0.646092	0.970243	0.133249	...	-0.010001	-0.010001	-0.017323	-0.010001	-0.010001	-0.014144	-0.014144	-1.002804	-0.578736	1.742740
3264	-0.601195	-1.620525	0.905045	0.912419	-0.373958	-0.004426	0.807737	0.646092	-1.030670	1.414415	...	-0.010001	-0.010001	-0.017323	-0.010001	-0.010001	-0.014144	-0.014144	0.997204	-0.578736	-0.573809
9845	1.678530	-0.374039	-0.626278	-1.095988	-0.087897	1.378686	0.807737	0.646092	0.970243	0.846147	...	-0.010001	-0.010001	-0.017323	-0.010001	-0.010001	-0.014144	-0.014144	-1.002804	-0.578736	1.742740
2732	-0.785485	-1.364118	-0.284834	-1.095988	0.865639	-1.387538	-0.911583	0.646092	-1.030670	0.326305	...	-0.010001	-0.010001	-0.017323	-0.010001	-0.010001	-0.014144	-0.014144	-1.002804	1.727904	-0.573809
7000 rows × 2946 columns

In [ ]:
y_train
Out[ ]:
7681    146193.60
9031         0.00
3691    160979.68
202          0.00
5625    143262.04
          ...    
9225    120074.97
4859    114440.24
3264    161274.05
9845         0.00
2732    108076.33
Name: Balance, Length: 7000, dtype: float64
In [ ]:
y_test
Out[ ]:
9394    131101.04
898     102967.41
2398     95386.82
5906    112079.58
2343    163034.82
          ...    
4004         0.00
7375     80926.02
9307    168001.34
8394    154953.94
5233     88826.07
Name: Balance, Length: 3000, dtype: float64
